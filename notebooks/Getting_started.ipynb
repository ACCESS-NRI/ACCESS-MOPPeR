{
 "cells": [
  {
   "cell_type": "markdown",
   "id": "c042f571-90e9-4160-ae53-bdbc5a165525",
   "metadata": {},
   "source": [
    "# ACCESS-MOPPeR Getting Started"
   ]
  },
  {
   "cell_type": "markdown",
   "id": "3f926297-b0f2-4b7c-b2b2-aeac91e7b94f",
   "metadata": {},
   "source": [
    "## Set up configuration\n",
    "\n",
    "When you first import `access_mopper` in a Python environment, the package will automatically create a `user.yml` file in your home directory (`~/.mopper/user.yml`).  \n",
    "\n",
    "During this initial setup, you will be prompted to provide some basic information, including:  \n",
    "- Your name  \n",
    "- Your email address  \n",
    "- Your work organization\n",
    "- Your ORCID\n",
    "\n",
    "This information is stored in `user.yml` and will be used as global attributes in the files generated during the CMORisation process. This ensures that each CMORised file includes metadata identifying who performed the CMORisation, allowing us to track data provenance and follow up with the responsible person if needed."
   ]
  },
  {
   "cell_type": "code",
   "execution_count": 1,
   "id": "9f40c28f-78e8-4a7f-a1ab-d4ce6e49ccd4",
   "metadata": {},
   "outputs": [
    {
     "name": "stdout",
     "output_type": "stream",
     "text": [
      "\n",
      "Loaded Configuration:\n",
      "Creator Name: Romain Beucher\n",
      "Organisation: ACCESS-NRI\n",
      "Creator Email: romain.beucher@anu.edu.au\n",
      "Creator URL: 0000-0003-3891-5444\n"
     ]
    }
   ],
   "source": [
    "import access_mopper as mop"
   ]
  },
  {
   "cell_type": "markdown",
   "id": "3b144fa1-4607-4de2-8200-30b9edb15fd4",
   "metadata": {},
   "source": [
    "## Create an Experiment\n",
    "\n",
    "In the context of CMORising data with **ACCESS-MOPPeR**, the next step involves creating an **experiment**. An **experiment** is a **dataclass** that defines the type of CMIP experiment you're working with. It plays a critical role in ensuring that the necessary metadata and configurations are applied when processing model output for CMORisation.\n",
    "\n",
    "### 1. **What is an Experiment?**\n",
    "An experiment in **ACCESS-MOPPeR** contains key information about the CMIP experiment you're trying to CMORise. This includes critical data such as:\n",
    "- **experiment_id**: For example, `\"piControl-spinup\"` in the context of the **ESM1.6** spin-up run.\n",
    "- **Additional Metadata**: The experiment dataclass also includes other metadata that will be stored as **global attributes** in the final CMORised output files. This information helps track the experiment, ensuring that relevant details (e.g., model version, configuration, initialization) are properly recorded in the processed data files.\n",
    "\n",
    "### 2. **Creating an ESM1.6 Experiment**\n",
    "For an **ESM1.6** experiment, you would define the experiment using an instance of the `ACCESS-ESM16-CMIP6` class. This class is designed specifically to handle the configurations associated with **ACCESS-ESM1.6**, and it pre-fills important details that will be attached to the output files after CMORisation. \n",
    "\n",
    "By using this class, you'll avoid manually entering configuration information, as it automates this process. These details include, but are not limited to:\n",
    "- The experiment's **id** (e.g., `\"piControl-spinup\"`).\n",
    "- The relevant **model configuration**, **forcing**, and **initialization** settings that are necessary to ensure proper CMORisation.\n",
    "\n",
    "### 3. Example:"
   ]
  },
  {
   "cell_type": "code",
   "execution_count": 2,
   "id": "21d86413-5e6d-49e8-82e1-7676af4152ef",
   "metadata": {},
   "outputs": [],
   "source": [
    "file_pattern = \"../tests/data/esm1-6/atmosphere/aiihca.pa-101909_mon.nc\""
   ]
  },
  {
   "cell_type": "code",
   "execution_count": 3,
   "id": "23fab0e1-6b22-4d03-9ca7-ffca55ee6d3e",
   "metadata": {},
   "outputs": [],
   "source": [
    "from access_mopper.configurations import ACCESS_ESM16_CMIP6\n",
    "\n",
    "experiment = ACCESS_ESM16_CMIP6(experiment_id = \"piControl-spinup\", \n",
    "                                realization_index=\"1\", \n",
    "                                initialization_index=\"1\", \n",
    "                                physics_index=\"1\", \n",
    "                                forcing_index=\"1\", \n",
    "                                parent_mip_era=\"no parent\",\n",
    "                                parent_activity_id=\"no parent\",\n",
    "                                parent_experiment_id= \"no parent\",\n",
    "                                parent_source_id = \"no parent\",\n",
    "                                parent_variant_label = \"no parent\",\n",
    "                                parent_time_units = \"no parent\",\n",
    "                                branch_method = \"no parent\",\n",
    "                          )"
   ]
  },
  {
   "cell_type": "markdown",
   "id": "03bb4d31-c0a2-4d3f-ba9e-8cdab3f3c5a2",
   "metadata": {},
   "source": [
    "### 3. **Serializing the Experiment**\n",
    "Once the experiment is defined using the `ACCESS-ESM16-CMIP6` class, it is serialized into a **JSON** file. This serialized JSON file contains all the metadata and configurations associated with the experiment. The JSON file will then be used by the **CMORiser** to generate the CMORised output data files.\n",
    "\n",
    "This serialized file ensures that the necessary context, experiment configurations, and metadata are applied consistently throughout the CMORisation process.\n",
    "\n",
    "This experiment setup ensures that the required information (such as experiment configurations and global attributes) is automatically integrated into the CMORisation process, making the generated files compliant with the CMIP standards.\n",
    "\n",
    "In summary, the **experiment** dataclass defines the core properties of the CMIP experiment you're CMORising, with the **ACCESS-ESM16-CMIP6** class pre-filling essential details. The resulting experiment is serialized into a JSON file, ensuring that these attributes are consistently applied during CMORisation."
   ]
  },
  {
   "cell_type": "code",
   "execution_count": 4,
   "id": "8d170dc0-539c-462d-9549-6a20396e2c56",
   "metadata": {},
   "outputs": [
    {
     "name": "stdout",
     "output_type": "stream",
     "text": [
      "Data saved to experiment.json\n"
     ]
    }
   ],
   "source": [
    "experiment.save_to_file(\"experiment.json\")"
   ]
  },
  {
   "cell_type": "markdown",
   "id": "d5211725-b75d-4027-bf1b-b405321781cd",
   "metadata": {},
   "source": [
    "## CMORising files for a Land variable (baresoilFrac)\n",
    "\n",
    "To **CMORise** the content of outputs for a specific variable, such as `baresoilFrac` from the **Lmon** (monthly mean) dataset, we follow a structured approach using **CMIP** standards and leveraging the **compound name** for the variable. Let's break this down step by step:\n",
    "\n",
    "### 1. **Why Use a Compound Name?**\n",
    "In CMIP, each variable is not just defined by a name (e.g., `baresoilFrac`) but by a **compound name** that includes both the variable and its associated dimensions, ensuring that we look at the specific requirements set by CMIP for that variable. \n",
    "\n",
    "A **compound name** like `\"Lmon.baresoilFrac\"` helps:\n",
    "- **Define the frequency and variable**: `Lmon` indicates the dataset is for **monthly** means (monthly time step).\n",
    "- **Address the specific variable**: `baresoilFrac` is the specific variable related to bare soil fraction.\n",
    "\n",
    "This compound naming ensures that the CMORiser will apply the correct metadata and compliance rules for the given variable, ensuring it matches the CMIP specifications.\n",
    "\n",
    "### 2. **CMORisation Example**\n",
    "\n",
    "To CMORise the output data for the `baresoilFrac` variable from the **Lmon** dataset, we'll use the `cmorise` function. Below is an example of how you would use this function in your script:"
   ]
  },
  {
   "cell_type": "code",
   "execution_count": 6,
   "id": "39d3bf56-e3cb-408a-b725-de8132be7ec6",
   "metadata": {},
   "outputs": [
    {
     "name": "stdout",
     "output_type": "stream",
     "text": [
      "Stored in: MOPPeR_outputs/CMIP6/CMIP/CSIRO/ACCESS-ESM1-5/piControl-spinup/r1i1p1f1/Lmon/baresoilFrac/gn/v20250402/baresoilFrac_Lmon_ACCESS-ESM1-5_piControl-spinup_r1i1p1f1_gn_101909-101909.nc\n"
     ]
    },
    {
     "name": "stderr",
     "output_type": "stream",
     "text": [
      "\n",
      "! ------\n",
      "! All files were closed successfully. \n",
      "! ------\n",
      "! \n"
     ]
    }
   ],
   "source": [
    "import glob\n",
    "from access_mopper.configurations import cmorise\n",
    "val = cmorise(file_paths=glob.glob(file_pattern),\n",
    "            compound_name= \"Lmon.baresoilFrac\", \n",
    "            cmor_dataset_json= \"experiment.json\",\n",
    "            mip_table=\"CMIP6_Lmon.json\")"
   ]
  },
  {
   "cell_type": "markdown",
   "id": "4181bfe9-6e82-4134-a29f-6846e4beef89",
   "metadata": {},
   "source": [
    "\n",
    "### 3. **How It Works:**\n",
    "When you run this code:\n",
    "- The `cmorise` function will first use the **file paths** obtained from the `glob` pattern to locate the necessary data files (those containing the `baresoilFrac` variable).\n",
    "- The **compound name** (`Lmon.baresoilFrac`) will ensure that the CMORiser applies the correct rules and metadata for the **baresoilFrac** variable.\n",
    "- The experiment details and global attributes are read from the **`experiment.json`** file, ensuring that the resulting CMORised output files are tagged with the appropriate metadata (such as the experiment id, model configuration, and other details).\n",
    "- The **MIP table** (`CMIP6_Lmon.json`) will guide the CMORisation process, ensuring that the output files adhere to CMIP6 standards for Lmon-type variables."
   ]
  },
  {
   "cell_type": "markdown",
   "id": "59b4dedb-aca7-4969-a285-9a07561c3cea",
   "metadata": {},
   "source": [
    "## CMORising files for an Atmosphere variable (zos)\n"
   ]
  },
  {
   "cell_type": "code",
   "execution_count": 14,
   "id": "1668d7e1-b2ae-4632-987c-0a537da13e63",
   "metadata": {},
   "outputs": [],
   "source": [
    "file_pattern = \"../tests/data/esm1-6/atmosphere/aiihca.pa-101909_mon.nc\""
   ]
  },
  {
   "cell_type": "code",
   "execution_count": 15,
   "id": "1f56c125-d75c-4aba-9d19-cfe8923ed7d1",
   "metadata": {},
   "outputs": [
    {
     "name": "stdout",
     "output_type": "stream",
     "text": [
      "Stored in: MOPPeR_outputs/CMIP6/CMIP/CSIRO/ACCESS-ESM1-5/piControl-spinup/r1i1p1f1/Amon/hur/gn/v20250402/hur_Amon_ACCESS-ESM1-5_piControl-spinup_r1i1p1f1_gn_101909-101909.nc\n"
     ]
    },
    {
     "name": "stderr",
     "output_type": "stream",
     "text": [
      "/home/romain/PROJECTS/ACCESS-MOPPeR/mopper_conda/lib/python3.11/site-packages/cmor/pywrapper.py:759: UserWarning: Error: your data shape ((1, 19, 144, 192)) does not match the expected variable shape ([144, 192, 0, 19])\n",
      "Check your variable dimensions before caling cmor_write\n",
      "  warnings.warn(msg)\n",
      "\n",
      "! ------\n",
      "! All files were closed successfully. \n",
      "! ------\n",
      "! \n"
     ]
    }
   ],
   "source": [
    "import glob\n",
    "from access_mopper.configurations import cmorise_ocean\n",
    "val = cmorise(file_paths=glob.glob(file_pattern),\n",
    "            compound_name= \"Amon.hur\", \n",
    "            cmor_dataset_json= \"experiment.json\",\n",
    "            mip_table=\"CMIP6_Amon.json\")"
   ]
  },
  {
   "attachments": {},
   "cell_type": "markdown",
   "id": "e1ec289c-ddac-4384-bf9e-584a44bb3767",
   "metadata": {},
   "source": [
    "## CMORising files for an Ocean variable (zos) (In development)"
   ]
  },
  {
   "cell_type": "code",
   "execution_count": null,
   "id": "e228b219-6c5b-4ade-9d7d-fbd5d9e13ddb",
   "metadata": {},
   "outputs": [],
   "source": [
    "file_pattern = \"/home/romain/PROJECTS/ACCESS-MOPPeR/Test_data/cj877/history/ocn/ocean-2d-sea_level-1-monthly-mean-ym_0326_01.nc\""
   ]
  },
  {
   "cell_type": "code",
   "execution_count": 19,
   "id": "3d75e6c4-c902-44f0-ba75-7c835483bf85",
   "metadata": {},
   "outputs": [
    {
     "ename": "Exception",
     "evalue": "Error, must pass a string",
     "output_type": "error",
     "traceback": [
      "\u001b[0;31m---------------------------------------------------------------------------\u001b[0m",
      "\u001b[0;31mException\u001b[0m                                 Traceback (most recent call last)",
      "Cell \u001b[0;32mIn[19], line 3\u001b[0m\n\u001b[1;32m      1\u001b[0m \u001b[38;5;28;01mimport\u001b[39;00m \u001b[38;5;21;01mglob\u001b[39;00m\n\u001b[1;32m      2\u001b[0m \u001b[38;5;28;01mfrom\u001b[39;00m \u001b[38;5;21;01maccess_mopper\u001b[39;00m\u001b[38;5;21;01m.\u001b[39;00m\u001b[38;5;21;01mconfigurations\u001b[39;00m \u001b[38;5;28;01mimport\u001b[39;00m cmorise_ocean\n\u001b[0;32m----> 3\u001b[0m val \u001b[38;5;241m=\u001b[39m \u001b[43mcmorise_ocean\u001b[49m\u001b[43m(\u001b[49m\u001b[43mfile_paths\u001b[49m\u001b[38;5;241;43m=\u001b[39;49m\u001b[43mfile_pattern\u001b[49m\u001b[43m,\u001b[49m\n\u001b[1;32m      4\u001b[0m \u001b[43m            \u001b[49m\u001b[43mcompound_name\u001b[49m\u001b[38;5;241;43m=\u001b[39;49m\u001b[43m \u001b[49m\u001b[38;5;124;43m\"\u001b[39;49m\u001b[38;5;124;43mOmon.zos\u001b[39;49m\u001b[38;5;124;43m\"\u001b[39;49m\u001b[43m,\u001b[49m\u001b[43m \u001b[49m\n\u001b[1;32m      5\u001b[0m \u001b[43m            \u001b[49m\u001b[43mcmor_dataset_json\u001b[49m\u001b[38;5;241;43m=\u001b[39;49m\u001b[43m \u001b[49m\u001b[38;5;124;43m\"\u001b[39;49m\u001b[38;5;124;43mexperiment.json\u001b[39;49m\u001b[38;5;124;43m\"\u001b[39;49m\u001b[43m,\u001b[49m\n\u001b[1;32m      6\u001b[0m \u001b[43m            \u001b[49m\u001b[43mmip_table\u001b[49m\u001b[38;5;241;43m=\u001b[39;49m\u001b[38;5;124;43m\"\u001b[39;49m\u001b[38;5;124;43mCMIP6_Omon.json\u001b[39;49m\u001b[38;5;124;43m\"\u001b[39;49m\u001b[43m)\u001b[49m\n",
      "File \u001b[0;32m~/PROJECTS/ACCESS-MOPPeR/ACCESS-MOPPeR/src/access_mopper/configurations.py:225\u001b[0m, in \u001b[0;36mcmorise_ocean\u001b[0;34m(file_paths, compound_name, cmor_dataset_json, mip_table)\u001b[0m\n\u001b[1;32m    219\u001b[0m \u001b[38;5;66;03m# First, load the grids table to set up x and y axes and the lat-long grid\u001b[39;00m\n\u001b[1;32m    220\u001b[0m \u001b[38;5;28;01mwith\u001b[39;00m (\n\u001b[1;32m    221\u001b[0m     resources\u001b[38;5;241m.\u001b[39mfiles(\u001b[38;5;124m\"\u001b[39m\u001b[38;5;124maccess_mopper.cmor_tables\u001b[39m\u001b[38;5;124m\"\u001b[39m)\n\u001b[1;32m    222\u001b[0m     \u001b[38;5;241m.\u001b[39mjoinpath(\u001b[38;5;124m\"\u001b[39m\u001b[38;5;124mCMIP6_grids.json\u001b[39m\u001b[38;5;124m\"\u001b[39m)\n\u001b[1;32m    223\u001b[0m     \u001b[38;5;241m.\u001b[39mopen(\u001b[38;5;124m\"\u001b[39m\u001b[38;5;124mr\u001b[39m\u001b[38;5;124m\"\u001b[39m) \u001b[38;5;28;01mas\u001b[39;00m file\n\u001b[1;32m    224\u001b[0m ):\n\u001b[0;32m--> 225\u001b[0m     grid_table_id \u001b[38;5;241m=\u001b[39m \u001b[43mcmor\u001b[49m\u001b[38;5;241;43m.\u001b[39;49m\u001b[43mload_table\u001b[49m\u001b[43m(\u001b[49m\u001b[43mfile\u001b[49m\u001b[43m)\u001b[49m\n\u001b[1;32m    226\u001b[0m cmor\u001b[38;5;241m.\u001b[39mset_table(grid_table_id)\n\u001b[1;32m    228\u001b[0m cmor_axes \u001b[38;5;241m=\u001b[39m []\n",
      "File \u001b[0;32m~/PROJECTS/ACCESS-MOPPeR/mopper_conda/lib/python3.11/site-packages/cmor/pywrapper.py:904\u001b[0m, in \u001b[0;36mload_table\u001b[0;34m(table)\u001b[0m\n\u001b[1;32m    899\u001b[0m \u001b[38;5;250m    \u001b[39m\u001b[38;5;124;03m\"\"\" loads a cmor table\u001b[39;00m\n\u001b[1;32m    900\u001b[0m \u001b[38;5;124;03m    Usage:\u001b[39;00m\n\u001b[1;32m    901\u001b[0m \u001b[38;5;124;03m    load_table(table)\u001b[39;00m\n\u001b[1;32m    902\u001b[0m \u001b[38;5;124;03m    \"\"\"\u001b[39;00m\n\u001b[1;32m    903\u001b[0m     \u001b[38;5;28;01mif\u001b[39;00m \u001b[38;5;129;01mnot\u001b[39;00m \u001b[38;5;28misinstance\u001b[39m(table, six\u001b[38;5;241m.\u001b[39mstring_types):\n\u001b[0;32m--> 904\u001b[0m         \u001b[38;5;28;01mraise\u001b[39;00m \u001b[38;5;167;01mException\u001b[39;00m(\u001b[38;5;124m\"\u001b[39m\u001b[38;5;124mError, must pass a string\u001b[39m\u001b[38;5;124m\"\u001b[39m)\n\u001b[1;32m    905\u001b[0m \u001b[38;5;66;03m# if not os.path.exists(table):\u001b[39;00m\n\u001b[1;32m    906\u001b[0m \u001b[38;5;66;03m##         raise Exception, \"Error, the table you specified (%s) does not exists\" % table\u001b[39;00m\n\u001b[1;32m    907\u001b[0m     \u001b[38;5;28;01mreturn\u001b[39;00m _cmor\u001b[38;5;241m.\u001b[39mload_table(table)\n",
      "\u001b[0;31mException\u001b[0m: Error, must pass a string"
     ]
    }
   ],
   "source": [
    "import glob\n",
    "from access_mopper.configurations import cmorise_ocean\n",
    "val = cmorise_ocean(file_paths=file_pattern,\n",
    "            compound_name= \"Omon.zos\", \n",
    "            cmor_dataset_json= \"experiment.json\",\n",
    "            mip_table=\"CMIP6_Omon.json\")"
   ]
  }
 ],
 "metadata": {
  "kernelspec": {
   "display_name": "Python 3 (ipykernel)",
   "language": "python",
   "name": "python3"
  },
  "language_info": {
   "codemirror_mode": {
    "name": "ipython",
    "version": 3
   },
   "file_extension": ".py",
   "mimetype": "text/x-python",
   "name": "python",
   "nbconvert_exporter": "python",
   "pygments_lexer": "ipython3",
   "version": "3.11.11"
  }
 },
 "nbformat": 4,
 "nbformat_minor": 5
}

{
 "cells": [
  {
   "cell_type": "markdown",
   "id": "4d1389d0-a330-46b4-a8e7-58bdf0d8ae9c",
   "metadata": {},
   "source": [
    "# Example with ACCESS-CM2 data"
   ]
  },
  {
   "cell_type": "code",
   "execution_count": 1,
   "id": "a67d64f6-726e-48a6-98a2-af9cbffc3fc8",
   "metadata": {},
   "outputs": [
    {
     "name": "stdout",
     "output_type": "stream",
     "text": [
      "Stored in: MOPPeR_outputs/CMIP6/CMIP/CSIRO-ARCCSS/ACCESS-CM2/historical/r3i1p1f1/Amon/hfls/gn/v20250219/hfls_Amon_ACCESS-CM2_historical_r3i1p1f1_gn_201101-201212.nc\n"
     ]
    },
    {
     "name": "stderr",
     "output_type": "stream",
     "text": [
      "\n",
      "! ------\n",
      "! All files were closed successfully. \n",
      "! ------\n",
      "! \n"
     ]
    },
    {
     "data": {
      "text/plain": [
       "0"
      ]
     },
     "execution_count": 1,
     "metadata": {},
     "output_type": "execute_result"
    }
   ],
   "source": [
    "import cmor\n",
    "import xarray as xr\n",
    "import numpy as np\n",
    "import pandas as pd\n",
    "import glob\n",
    "import os\n",
    "\n",
    "# Define the file pattern (e.g., all .nc files in a specific directory)\n",
    "file_pattern = \"/home/romain/PROJECTS/ACCESS-MOPPeR/Test_data/di787/history/atm/netCDF/di787a.pm*.nc\"  # Adjust to your file pattern\n",
    "\n",
    "# Use glob to match files based on the pattern\n",
    "file_paths = glob.glob(file_pattern)\n",
    "\n",
    "# Open the matching files with xarray\n",
    "ds = xr.open_mfdataset(file_paths, combine='by_coords')\n",
    "\n",
    "# Example mapping of variable names\n",
    "mapping = {\n",
    "    \"hfls\": \"fld_s03i234\"\n",
    "}\n",
    "\n",
    "# Extract required variables and coordinates\n",
    "hfls = ds[mapping[\"hfls\"]].values\n",
    "lat = ds[\"lat\"].values\n",
    "lat_bnds = ds[\"lat_bnds\"].isel(time=0).values\n",
    "lon = ds[\"lon\"].values\n",
    "lon_bnds = ds[\"lon_bnds\"].isel(time=0).values\n",
    "\n",
    "# Convert time to numeric values using xarray's datetime accessor\n",
    "reference_time = \"1850-01-01 00:00:00\"  # Desired reference time\n",
    "time_units = f\"days since {reference_time}\"\n",
    "reference_date = pd.Timestamp(reference_time)\n",
    "\n",
    "# Convert time to numeric values (days since reference_time)\n",
    "time_numeric = (ds[\"time\"] - np.datetime64(reference_date)).dt.days.values\n",
    "\n",
    "# Handle time bounds\n",
    "time_bnds = (ds[\"time_bnds\"] - np.datetime64(reference_date)).dt.days.values\n",
    "\n",
    "# CMOR setup\n",
    "ipth = opth = \"Test\"\n",
    "cmor.setup(inpath=ipth,\n",
    "           set_verbosity=cmor.CMOR_NORMAL,\n",
    "           netcdf_file_action=cmor.CMOR_REPLACE)\n",
    "cmor.dataset_json(\"test.json\")\n",
    "cmor.load_table(\"CMIP6_Amon.json\")\n",
    "\n",
    "# Define CMOR axes\n",
    "cmorLat = cmor.axis(\"latitude\",\n",
    "                    coord_vals=lat,\n",
    "                    cell_bounds=lat_bnds,\n",
    "                    units=\"degrees_north\")\n",
    "cmorLon = cmor.axis(\"longitude\",\n",
    "                    coord_vals=lon,\n",
    "                    cell_bounds=lon_bnds,\n",
    "                    units=\"degrees_east\")\n",
    "cmorTime = cmor.axis(\"time\",\n",
    "                     coord_vals=time_numeric,\n",
    "                     cell_bounds=time_bnds,\n",
    "                     units=time_units)\n",
    "\n",
    "# Define CMOR variable\n",
    "axes = [cmorTime, cmorLat, cmorLon]\n",
    "cmorHfls = cmor.variable(\"hfls\", \"W/m2\", axes, positive=\"up\")\n",
    "\n",
    "# Write data to CMOR\n",
    "status = cmor.write(cmorHfls, hfls, ntimes_passed=len(time_numeric))\n",
    "\n",
    "# Finalize and save the file\n",
    "filename = cmor.close(cmorHfls, file_name=True)\n",
    "print(\"Stored in:\", filename)\n",
    "\n",
    "cmor.close()"
   ]
  }
 ],
 "metadata": {
  "kernelspec": {
   "display_name": "Python 3 (ipykernel)",
   "language": "python",
   "name": "python3"
  },
  "language_info": {
   "codemirror_mode": {
    "name": "ipython",
    "version": 3
   },
   "file_extension": ".py",
   "mimetype": "text/x-python",
   "name": "python",
   "nbconvert_exporter": "python",
   "pygments_lexer": "ipython3",
   "version": "3.11.11"
  }
 },
 "nbformat": 4,
 "nbformat_minor": 5
}
